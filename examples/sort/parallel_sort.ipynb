{
 "cells": [
  {
   "cell_type": "code",
   "execution_count": 1,
   "metadata": {
    "collapsed": true
   },
   "outputs": [],
   "source": [
    "import ray\n",
    "import numpy as np\n",
    "import time"
   ]
  },
  {
   "cell_type": "code",
   "execution_count": 2,
   "metadata": {
    "collapsed": true
   },
   "outputs": [],
   "source": [
    "num_cores = 8\n",
    "num_partition_blocks = num_cores\n",
    "num_sorting_blocks = num_cores\n",
    "num_samples_for_pivots = num_partition_blocks * 25\n",
    "array_len = 100000000"
   ]
  },
  {
   "cell_type": "code",
   "execution_count": 3,
   "metadata": {
    "collapsed": true
   },
   "outputs": [],
   "source": [
    "def compute_pivots(values, num_samples, num_partitions):\n",
    "    \"\"\"Sampling a subsection of the array and chooses partition pivots\"\"\"\n",
    "    samples = values[np.random.randint(0, len(values), size=num_samples)]\n",
    "    samples = np.sort(samples)\n",
    "    pivot_indices = np.arange(1, num_partitions) * (len(samples) //\n",
    "                                                    num_partitions)\n",
    "    return samples[pivot_indices]"
   ]
  },
  {
   "cell_type": "code",
   "execution_count": 4,
   "metadata": {
    "collapsed": true
   },
   "outputs": [],
   "source": [
    "@ray.remote(num_return_vals=num_sorting_blocks)\n",
    "def partition_block(block, pivots):\n",
    "    \"\"\"Sort and partition the array further by the given pivots.\"\"\"\n",
    "    sorted = np.sort(block)\n",
    "    partition_indices = sorted.searchsorted(pivots)\n",
    "    return np.split(sorted, partition_indices)"
   ]
  },
  {
   "cell_type": "code",
   "execution_count": 5,
   "metadata": {
    "collapsed": true
   },
   "outputs": [],
   "source": [
    "@ray.remote\n",
    "def merge_and_sort(*partition):\n",
    "    \"\"\"Concatenate the arrays given and sort afterwards\"\"\"\n",
    "    return np.sort(np.concatenate(partition))"
   ]
  },
  {
   "cell_type": "code",
   "execution_count": 6,
   "metadata": {},
   "outputs": [
    {
     "name": "stderr",
     "output_type": "stream",
     "text": [
      "2019-05-14 12:49:10,596\tINFO node.py:469 -- Process STDOUT and STDERR is being redirected to /tmp/ray/session_2019-05-14_12-49-10_4412/logs.\n",
      "2019-05-14 12:49:10,707\tINFO services.py:409 -- Waiting for redis server at 127.0.0.1:16709 to respond...\n",
      "2019-05-14 12:49:10,825\tINFO services.py:409 -- Waiting for redis server at 127.0.0.1:58219 to respond...\n",
      "2019-05-14 12:49:10,830\tINFO services.py:806 -- Starting Redis shard with 3.44 GB max memory.\n",
      "2019-05-14 12:49:10,844\tINFO node.py:483 -- Process STDOUT and STDERR is being redirected to /tmp/ray/session_2019-05-14_12-49-10_4412/logs.\n",
      "2019-05-14 12:49:10,847\tINFO services.py:1441 -- Starting the Plasma object store with 5.15 GB memory using /tmp.\n"
     ]
    },
    {
     "data": {
      "text/plain": [
       "{'node_ip_address': '10.142.32.61',\n",
       " 'object_store_address': '/tmp/ray/session_2019-05-14_12-49-10_4412/sockets/plasma_store',\n",
       " 'raylet_socket_name': '/tmp/ray/session_2019-05-14_12-49-10_4412/sockets/raylet',\n",
       " 'redis_address': '10.142.32.61:16709',\n",
       " 'webui_url': None}"
      ]
     },
     "execution_count": 6,
     "metadata": {},
     "output_type": "execute_result"
    }
   ],
   "source": [
    "ray.init(num_cpus=num_cores)"
   ]
  },
  {
   "cell_type": "code",
   "execution_count": 14,
   "metadata": {},
   "outputs": [
    {
     "name": "stdout",
     "output_type": "stream",
     "text": [
      "Parallel sort took 1.3176541328430176 seconds.\n"
     ]
    }
   ],
   "source": [
    "# Generate a random array.\n",
    "values = np.random.randint(0, 256, size=array_len, dtype=np.uint8)\n",
    "\n",
    "# Begin timing the parallel sort example.\n",
    "parallel_sort_start = time.time()\n",
    "\n",
    "# Generate pivots to use as range partitions.\n",
    "pivots = compute_pivots(values, num_samples_for_pivots,\n",
    "                        num_partition_blocks)\n",
    "\n",
    "# Split the array into roughly equal partitions, which we will further\n",
    "# partition into ranges by pivots in parallel.\n",
    "blocks = np.array_split(values, num_partition_blocks)\n",
    "partition_ids = [partition_block.remote(block, pivots) for block in blocks]\n",
    "partition_ids = list(map(list, zip(*partition_ids)))\n",
    "\n",
    "sorted_ids = [merge_and_sort.remote(*partition_ids[id]) for id in\n",
    "              range(len(partition_ids))]\n",
    "parallel_sorted = np.concatenate(ray.get(sorted_ids))\n",
    "\n",
    "parallel_sort_end = time.time()\n",
    "print(\"Parallel sort took {} seconds.\"\n",
    "      .format(parallel_sort_end - parallel_sort_start))"
   ]
  },
  {
   "cell_type": "code",
   "execution_count": 17,
   "metadata": {},
   "outputs": [
    {
     "name": "stdout",
     "output_type": "stream",
     "text": [
      "Serial sort took 4.165165185928345 seconds.\n"
     ]
    }
   ],
   "source": [
    "# Run a serial sort as an accuracy check and time comparison.\n",
    "serial_sort_start = time.time()\n",
    "serial_sorted = np.sort(values)\n",
    "serial_sort_end = time.time()\n",
    "print(\"Serial sort took {} seconds.\"\n",
    "      .format(serial_sort_end - serial_sort_start))"
   ]
  },
  {
   "cell_type": "code",
   "execution_count": 12,
   "metadata": {},
   "outputs": [
    {
     "name": "stdout",
     "output_type": "stream",
     "text": [
      "Parallel sort successful and correct.\n"
     ]
    }
   ],
   "source": [
    "# Check that we sorted the array properly.\n",
    "assert np.allclose(parallel_sorted, serial_sorted)\n",
    "print(\"Parallel sort successful and correct.\")"
   ]
  },
  {
   "cell_type": "code",
   "execution_count": null,
   "metadata": {
    "collapsed": true
   },
   "outputs": [],
   "source": []
  }
 ],
 "metadata": {
  "kernelspec": {
   "display_name": "Python 3",
   "language": "python",
   "name": "python3"
  },
  "language_info": {
   "codemirror_mode": {
    "name": "ipython",
    "version": 3
   },
   "file_extension": ".py",
   "mimetype": "text/x-python",
   "name": "python",
   "nbconvert_exporter": "python",
   "pygments_lexer": "ipython3",
   "version": "3.6.8"
  }
 },
 "nbformat": 4,
 "nbformat_minor": 2
}
